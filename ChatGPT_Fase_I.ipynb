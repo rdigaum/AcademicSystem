{
  "nbformat": 4,
  "nbformat_minor": 0,
  "metadata": {
    "colab": {
      "provenance": [],
      "include_colab_link": true
    },
    "kernelspec": {
      "name": "python3",
      "display_name": "Python 3"
    },
    "language_info": {
      "name": "python"
    }
  },
  "cells": [
    {
      "cell_type": "markdown",
      "metadata": {
        "id": "view-in-github",
        "colab_type": "text"
      },
      "source": [
        "<a href=\"https://colab.research.google.com/github/rdigaum/AcademicSystem/blob/master/ChatGPT_Fase_I.ipynb\" target=\"_parent\"><img src=\"https://colab.research.google.com/assets/colab-badge.svg\" alt=\"Open In Colab\"/></a>"
      ]
    },
    {
      "cell_type": "markdown",
      "source": [
        "# Explorando a API do ChatGPT em nossas aplicações\n",
        "\n",
        "O GPT-3 é uma das versões do ChatGPT desenvolvido pela OpenAI, é um modelo de linguagem estatístico que tem a capacidade de calcular a distribuição de probabilidade para uma sequência de palavras. Simplificando, ele é um sistema projetado para prever qual texto provavelmente seguirá quando uma determinada entrada de texto é fornecida. Isso significa que o GPT-3 pode realizar inferências inteligentes sobre o próximo trecho de texto com base em um contexto fornecido.\n",
        "\n",
        "ChatGPT conta com uma API que permite a integração e interação programática com o modelo de linguagem.\n",
        "\n",
        "Com a API do ChatGPT podemos:\n",
        "- Utilizar um conjunto de recursos e funcionalidades que podemos aproveitar para interagir com um assistente virtual baseado em linguagem natural.\n",
        "- Fazer solicitações à API para obter respostas, gerar texto com base em prompts específicos e realizar conversas interativas com o modelo.\n",
        "- Experimentar configurações e parâmetros da API para personalizar a interação e obter os resultados desejados.\n",
        "\n",
        "Neste desafio, iremos explorar as vantagems de utilizar a API do ChatGPT.\n",
        "\n",
        "Link API do ChatGPT [texto do link](https://platform.openai.com/docs/api-reference/)\n"
      ],
      "metadata": {
        "id": "fv4zOe2sr8ux"
      }
    },
    {
      "cell_type": "markdown",
      "source": [
        "# Instalação API ChatGPT"
      ],
      "metadata": {
        "id": "wr6bR_u2WTrK"
      }
    },
    {
      "cell_type": "markdown",
      "source": [
        "**Instalando e autenticando da API do ChatGPT**\n",
        "\n",
        "**Prompt Chat GPT:** Chat GPT, Quais são os comandos necessários para intalar a API do ChatGPT no google colab?"
      ],
      "metadata": {
        "id": "Lc_K4YF13bV0"
      }
    },
    {
      "cell_type": "code",
      "execution_count": null,
      "metadata": {
        "colab": {
          "base_uri": "https://localhost:8080/"
        },
        "id": "nCERnHCuzsee",
        "outputId": "fdc5bc27-0cbb-4cdf-931b-99b0fcc11646"
      },
      "outputs": [
        {
          "output_type": "stream",
          "name": "stdout",
          "text": [
            "Collecting openai\n",
            "  Downloading openai-0.27.8-py3-none-any.whl (73 kB)\n",
            "\u001b[?25l     \u001b[90m━━━━━━━━━━━━━━━━━━━━━━━━━━━━━━━━━━━━━━━━\u001b[0m \u001b[32m0.0/73.6 kB\u001b[0m \u001b[31m?\u001b[0m eta \u001b[36m-:--:--\u001b[0m\r\u001b[2K     \u001b[90m━━━━━━━━━━━━━━━━━━━━━━━━━━━━━━━━━━━━━━━━\u001b[0m \u001b[32m73.6/73.6 kB\u001b[0m \u001b[31m2.9 MB/s\u001b[0m eta \u001b[36m0:00:00\u001b[0m\n",
            "\u001b[?25hRequirement already satisfied: requests>=2.20 in /usr/local/lib/python3.10/dist-packages (from openai) (2.27.1)\n",
            "Requirement already satisfied: tqdm in /usr/local/lib/python3.10/dist-packages (from openai) (4.65.0)\n",
            "Requirement already satisfied: aiohttp in /usr/local/lib/python3.10/dist-packages (from openai) (3.8.4)\n",
            "Requirement already satisfied: urllib3<1.27,>=1.21.1 in /usr/local/lib/python3.10/dist-packages (from requests>=2.20->openai) (1.26.16)\n",
            "Requirement already satisfied: certifi>=2017.4.17 in /usr/local/lib/python3.10/dist-packages (from requests>=2.20->openai) (2023.5.7)\n",
            "Requirement already satisfied: charset-normalizer~=2.0.0 in /usr/local/lib/python3.10/dist-packages (from requests>=2.20->openai) (2.0.12)\n",
            "Requirement already satisfied: idna<4,>=2.5 in /usr/local/lib/python3.10/dist-packages (from requests>=2.20->openai) (3.4)\n",
            "Requirement already satisfied: attrs>=17.3.0 in /usr/local/lib/python3.10/dist-packages (from aiohttp->openai) (23.1.0)\n",
            "Requirement already satisfied: multidict<7.0,>=4.5 in /usr/local/lib/python3.10/dist-packages (from aiohttp->openai) (6.0.4)\n",
            "Requirement already satisfied: async-timeout<5.0,>=4.0.0a3 in /usr/local/lib/python3.10/dist-packages (from aiohttp->openai) (4.0.2)\n",
            "Requirement already satisfied: yarl<2.0,>=1.0 in /usr/local/lib/python3.10/dist-packages (from aiohttp->openai) (1.9.2)\n",
            "Requirement already satisfied: frozenlist>=1.1.1 in /usr/local/lib/python3.10/dist-packages (from aiohttp->openai) (1.3.3)\n",
            "Requirement already satisfied: aiosignal>=1.1.2 in /usr/local/lib/python3.10/dist-packages (from aiohttp->openai) (1.3.1)\n",
            "Installing collected packages: openai\n",
            "Successfully installed openai-0.27.8\n"
          ]
        }
      ],
      "source": [
        "!pip install openai"
      ]
    },
    {
      "cell_type": "code",
      "source": [
        "import os\n",
        "import openai\n",
        "\n",
        "# Configurando a chave de API usando os.getenv\n",
        "openai.api_key  = os.getenv('OPENAI_API_KEY')"
      ],
      "metadata": {
        "id": "qJpxQgyH4S7M"
      },
      "execution_count": null,
      "outputs": []
    },
    {
      "cell_type": "code",
      "source": [
        "API_KEY = 'xxxxxxxxxx'"
      ],
      "metadata": {
        "id": "wEA6bJff-bKz"
      },
      "execution_count": null,
      "outputs": []
    },
    {
      "cell_type": "code",
      "source": [
        "openai.api_key = API_KEY\n"
      ],
      "metadata": {
        "id": "jt9_A8A3-joZ"
      },
      "execution_count": null,
      "outputs": []
    },
    {
      "cell_type": "markdown",
      "source": [
        "***Exercícios de introdução***\n",
        "\n",
        "Vamos interagir com exercícios no Python utilizando o ChatGPT como ferramenta de consulta.\n",
        "\n",
        "Dentre do ChatGPT-3 exitem mecanismos de execução ao trabalhar, e são:\n",
        "- Ada (em homenagem a Ada Lovelace)\n",
        "- Babbage (Charles Babbage)\n",
        "- Curie (Madame Marie Curie)\n",
        "- Davinci (Leonardo da Vinci).\n",
        "\n",
        "**Exemplo:**"
      ],
      "metadata": {
        "id": "KmUXHzIN35RP"
      }
    },
    {
      "cell_type": "code",
      "source": [
        "# Enviar uma solicitação para a API ChatGPT\n",
        "response = openai.Completion.create(\n",
        "  engine=\"text-davinci-003\",\n",
        "  #engine=\"curie\",\n",
        "  prompt=\"Olá mundo!\",\n",
        "  max_tokens=50\n",
        ")\n",
        "\n",
        "# Extrair a resposta da API\n",
        "responder = response.choices[0].text.strip()\n",
        "\n",
        "# Exibir a resposta\n",
        "print(responder)"
      ],
      "metadata": {
        "colab": {
          "base_uri": "https://localhost:8080/"
        },
        "id": "SVDQHYyU4neM",
        "outputId": "1652c9eb-e3b4-42b4-85bf-53e5b4abee32"
      },
      "execution_count": null,
      "outputs": [
        {
          "output_type": "stream",
          "name": "stdout",
          "text": [
            "Estou feliz por estar aqui e conhecer o mundo. Espero aprender muito e crescer como pessoa.\n"
          ]
        }
      ]
    },
    {
      "cell_type": "markdown",
      "source": [
        "# 1. Utilizando API do CHATGPT\n",
        "\n",
        "Com essa API (*Application Programming Interface*), podemos enviar solicitações de texto e receber respostas completas e coerentes, permitindo-nos explorar projetos práticos e desenvolver soluções inovadoras."
      ],
      "metadata": {
        "id": "8EC9GiWjKL2H"
      }
    },
    {
      "cell_type": "markdown",
      "source": [
        "**Exercício 1.1:**\n",
        "Escreva um programa que utilize a API ChatGPT para imprimir uma resposta gerada pelo modelo ao prompt \"Olá, como posso ajudar você?\".\n",
        "\n",
        "**Prompt Chat GPT:** ChatGPT, qual o código em python para criar uma função que imprima resposta ao prompt \"Olá, como posso ajudar você?\" utilizando text-davinci-003.\n",
        "\n",
        "\n",
        "1.   Certifique-se que o código seja em Python\n",
        "2.   Mecanismo de Davinci \"text-davinci-003\"\n",
        "\n",
        "\n"
      ],
      "metadata": {
        "id": "DgdTk7tN7mOj"
      }
    },
    {
      "cell_type": "code",
      "source": [
        "#Copie aqui embaixo o código gerado pelo Chat GPT, ou alternativamente escreva a função. Depois clique em Run\n",
        "#Logo depois de executar verifique se há erros para corregir\n",
        "\n",
        "def gerar_resposta(prompt):\n",
        "    model = \"text-davinci-003\"\n",
        "    response = openai.Completion.create(\n",
        "        engine=model,\n",
        "        prompt=prompt,\n",
        "        max_tokens=100,\n",
        "        temperature=0.7,\n",
        "        n=1,\n",
        "        stop=None,\n",
        "    )\n",
        "    return response.choices[0].text.strip()\n",
        "\n",
        "# Exemplo de uso\n",
        "prompt = \"Olá, como posso ajudar você?\"\n",
        "resposta = gerar_resposta(prompt)\n",
        "print(resposta)\n"
      ],
      "metadata": {
        "colab": {
          "base_uri": "https://localhost:8080/"
        },
        "id": "mUluoVh35bWR",
        "outputId": "77163db8-6ed3-4e85-da97-4bcca042379e"
      },
      "execution_count": null,
      "outputs": [
        {
          "output_type": "stream",
          "name": "stdout",
          "text": [
            "Preciso de informações sobre serviços de transporte.\n"
          ]
        }
      ]
    },
    {
      "cell_type": "markdown",
      "source": [
        "**Exercício 1.2:**\n",
        "Crie um programa que permita ao usuário digitar uma pergunta e obtenha uma resposta da API ChatGPT.\n",
        "\n",
        "**Prompt Chat GPT:** ChatGPT, qual o código em python para criar uma função que permita ao usuário digitar uma pergunta e obtenha uma resposta utilizando text-davinci-003.\n",
        "\n",
        "\n",
        "1.   Certifique-se que o código seja em Python\n",
        "2.   Mecanismo de Davinci \"text-davinci-003\""
      ],
      "metadata": {
        "id": "XE7BhOO38j5Y"
      }
    },
    {
      "cell_type": "code",
      "source": [
        "def obter_resposta(prompt):\n",
        "    response = openai.Completion.create(\n",
        "        engine=\"text-davinci-003\",\n",
        "        prompt=prompt,\n",
        "        max_tokens=50\n",
        "    )\n",
        "    reply = response.choices[0].text.strip()\n",
        "    return reply\n",
        "\n",
        "pergunta = input(\"Digite sua pergunta: \")\n",
        "resposta = obter_resposta(pergunta)\n",
        "print(resposta)"
      ],
      "metadata": {
        "colab": {
          "base_uri": "https://localhost:8080/"
        },
        "id": "k_UZP8B_8ieZ",
        "outputId": "69b77cc7-2a90-4b77-810c-d902de6d8ac9"
      },
      "execution_count": null,
      "outputs": [
        {
          "output_type": "stream",
          "name": "stdout",
          "text": [
            "Digite sua pergunta: que dia é hoje?\n",
            "Hoje é Sexta-Feira, dia 8 de Janeiro de 2021.\n"
          ]
        }
      ]
    },
    {
      "cell_type": "code",
      "source": [
        "#Copie aqui embaixo o código gerado pelo Chat GPT, ou alternativamente escreva a função. Depois clique em Run\n",
        "#Logo depois de executar verifique se há erros para corregir\n",
        "\n",
        "def obter_resposta(prompt):\n",
        "    model = \"text-davinci-003\"\n",
        "    response = openai.Completion.create(\n",
        "        engine=model,\n",
        "        prompt=prompt,\n",
        "        max_tokens=100,\n",
        "        temperature=0.7,\n",
        "        n=1,\n",
        "        stop=None\n",
        "    )\n",
        "    return response.choices[0].text.strip()\n",
        "\n",
        "# Loop para interação contínua\n",
        "while True:\n",
        "    pergunta = input(\"Digite sua pergunta (ou 'sair' para encerrar): \")\n",
        "    if pergunta.lower() == \"sair\":\n",
        "        break\n",
        "    resposta = obter_resposta(pergunta)\n",
        "    print(resposta)"
      ],
      "metadata": {
        "colab": {
          "base_uri": "https://localhost:8080/"
        },
        "id": "Y7xXMU0iWJ-Y",
        "outputId": "6183d5c8-a53b-4d67-8609-3ba4ad9ebc73"
      },
      "execution_count": null,
      "outputs": [
        {
          "name": "stdout",
          "output_type": "stream",
          "text": [
            "Digite sua pergunta (ou 'sair' para encerrar): Qual é a hora?\n",
            "A hora atual é 18:36.\n",
            "Digite sua pergunta (ou 'sair' para encerrar): Como você se chama?\n",
            "Meu nome é Thiago.\n",
            "Digite sua pergunta (ou 'sair' para encerrar): sair\n"
          ]
        }
      ]
    },
    {
      "cell_type": "markdown",
      "source": [
        "**Exercício 1.3:**\n",
        "\n",
        "É comum que o Chat GPT gere código diferente porém que leve ao mesmo resultado. Lembre-se que isso é um conceito básico de programação - existem várias formas de se criar um mesmo programa.\n",
        "\n",
        "Abaixo, cole outro código gerado que também desenvolve um programa que utilize a API ChatGPT para criar um diálogo simples com o modelo, alternando entre perguntas e respostas.\n"
      ],
      "metadata": {
        "id": "1VDk0SMQ9T46"
      }
    },
    {
      "cell_type": "code",
      "source": [
        "#Copie aqui embaixo o código gerado pelo Chat GPT, ou alternativamente escreva a função. Depois clique em Run\n",
        "#Logo depois de executar verifique se há erros para corregir\n",
        "def obter_resposta(prompt):\n",
        "    response = openai.Completion.create(\n",
        "        engine=\"text-davinci-003\",\n",
        "        prompt=prompt,\n",
        "        max_tokens=50\n",
        "    )\n",
        "    reply = response.choices[0].text.strip()\n",
        "    return reply\n",
        "\n",
        "while True:\n",
        "    pergunta = input(\"Digite sua pergunta (ou 'sair' para encerrar): \")\n",
        "    if pergunta.lower() == \"sair\":\n",
        "        break\n",
        "    prompt = f\"Usuário: {pergunta}\\nAI:\"\n",
        "    resposta = obter_resposta(prompt)\n",
        "    print(resposta)"
      ],
      "metadata": {
        "colab": {
          "base_uri": "https://localhost:8080/"
        },
        "id": "Oq6e4Ayz9dq3",
        "outputId": "8248d66b-a63d-42fb-fe46-964ea7fc4db7"
      },
      "execution_count": null,
      "outputs": [
        {
          "name": "stdout",
          "output_type": "stream",
          "text": [
            "Digite sua pergunta (ou 'sair' para encerrar): amanhã que dia é?\n",
            "Sexta-feira.\n",
            "Digite sua pergunta (ou 'sair' para encerrar): sair\n"
          ]
        }
      ]
    },
    {
      "cell_type": "markdown",
      "source": [
        "# 2. Exercícios com bases de dados SQL\n",
        "\n",
        "**Pré-requisito:** Assistir ao vídeo XXXX conforme programa de curso no Moodle.\n",
        "\n",
        "Nesta seção faremos exercícios práticos com bases de dados SQL. Aprenderemos a escrever consultas SQL para extrair informações, realizar análises e manipular dados.  \n",
        "\n",
        "**Siga as seguintes instruções para importar o banco de dados SQL.**\n",
        "\n",
        "Para carregar o arquivo \"chinook.db\" no Google Colab, siga as etapas abaixo:\n",
        "\n",
        "1. Acesse o link fornecido para baixar o arquivo \"chinook.db\" para o seu computador local. Certifique-se de que você tenha permissão para baixar o arquivo. Link: https://drive.google.com/file/d/1QGLFiNaIg2gdp-DjJyN53qs_vp1pfjVZ/view?usp=sharing\n",
        "\n",
        "3. Abra o Google Colab em seu navegador\n",
        "\n",
        "4. No painel esquerdo do Google Colab, clique no ícone da pasta para abrir o navegador de arquivos.\n",
        "\n",
        "5. Clique no botão \"Upload\" para carregar o arquivo \"chinook.db\" do seu computador local para o ambiente do Google Colab.\n",
        "\n",
        "6. Selecione o arquivo \"chinook.db\" e clique em \"Abrir\" ou pressione \"Enter\" para iniciar o processo de upload.\n",
        "\n",
        "Após o carregamento do arquivo, você poderá usar o arquivo \"chinook.db\" no seu notebook do Google Colab para realizar consultas e interagir com o banco de dados.  \n"
      ],
      "metadata": {
        "id": "wZL6527CLY5-"
      }
    },
    {
      "cell_type": "markdown",
      "source": [
        "**Prompt Chat GPT:** Chat GPT, Quais são os comandos necessãrios para instalar pysqlite3"
      ],
      "metadata": {
        "id": "woarSH3k0isI"
      }
    },
    {
      "cell_type": "code",
      "source": [
        "!pip install pysqlite3"
      ],
      "metadata": {
        "colab": {
          "base_uri": "https://localhost:8080/"
        },
        "id": "7XnFvBAQi5dr",
        "outputId": "aed10cf9-f12d-438e-bd4f-04ff9f368969"
      },
      "execution_count": null,
      "outputs": [
        {
          "output_type": "stream",
          "name": "stdout",
          "text": [
            "Collecting pysqlite3\n",
            "  Downloading pysqlite3-0.5.1.tar.gz (40 kB)\n",
            "\u001b[?25l     \u001b[90m━━━━━━━━━━━━━━━━━━━━━━━━━━━━━━━━━━━━━━━━\u001b[0m \u001b[32m0.0/40.6 kB\u001b[0m \u001b[31m?\u001b[0m eta \u001b[36m-:--:--\u001b[0m\r\u001b[2K     \u001b[90m━━━━━━━━━━━━━━━━━━━━━━━━━━━━━━━━━━━━━━━━\u001b[0m \u001b[32m40.6/40.6 kB\u001b[0m \u001b[31m1.8 MB/s\u001b[0m eta \u001b[36m0:00:00\u001b[0m\n",
            "\u001b[?25h  Preparing metadata (setup.py) ... \u001b[?25l\u001b[?25hdone\n",
            "Building wheels for collected packages: pysqlite3\n",
            "  Building wheel for pysqlite3 (setup.py) ... \u001b[?25l\u001b[?25hdone\n",
            "  Created wheel for pysqlite3: filename=pysqlite3-0.5.1-cp310-cp310-linux_x86_64.whl size=163700 sha256=de5457abef156e574ac2b1f94db2e4d1a2797fb6b31577b41bb528fdf79ef42b\n",
            "  Stored in directory: /root/.cache/pip/wheels/ed/1d/da/4bb79a0c7885888c6be9e31dad7ebd3b47b023be60469fd74d\n",
            "Successfully built pysqlite3\n",
            "Installing collected packages: pysqlite3\n",
            "Successfully installed pysqlite3-0.5.1\n"
          ]
        }
      ]
    },
    {
      "cell_type": "markdown",
      "source": [
        "**Exercício 2.1:** Criar uma uma função para conectar um banco de dados SQLite3\n",
        "\n",
        "**Prompt Chat GPT:** ChatGPT, qual o código em python para criar uma funação para conectar um banco de dados de SQLite3?.\n",
        "\n",
        "1.   Certifique-se que o código seja em Python\n",
        "2.   Certifique-se que todas as livrarias do código mostrado no chatGPT estejam instalados\n",
        "3. Certifique-se de que use um exemplo para usar a biblioteca sqlite3"
      ],
      "metadata": {
        "id": "HeIAhSy2I2Ks"
      }
    },
    {
      "cell_type": "code",
      "source": [
        "#Copie aqui embaixo o código gerado pelo Chat GPT, ou alternativamente escreva a função. Depois clique em Run\n",
        "#Logo depois de executar verifique se há erros para corregir\n",
        "import sqlite3\n",
        "def conectar_banco_dados(nome_banco_dados):\n",
        "    try:\n",
        "        # Conectando ao banco de dados\n",
        "        conn = sqlite3.connect(nome_banco_dados)\n",
        "        print(\"Conexão bem-sucedida ao banco de dados SQLite3!\")\n",
        "        return conn\n",
        "    except sqlite3.Error as e:\n",
        "        print(f\"Erro ao conectar-se ao banco de dados SQLite3: {e}\")"
      ],
      "metadata": {
        "id": "hu9MWMH8JCtT"
      },
      "execution_count": null,
      "outputs": []
    },
    {
      "cell_type": "markdown",
      "source": [
        "**Exercício 2.2:**\n",
        "Em um banco de dados, criar uma consulta em SQL para mostrar todas as tabelas do banco de dados e retornar o total de tabelas. Ao final, insira esse número debaixo do Exercício 2.2 no Moodle.\n",
        "\n",
        "**Prompt Chat GPT:** ChatGPT, qual o código em python para criar uma consulta em SQL para mostrar todas as tabelas do banco de dados. O banco de dados está no sqlite3.\n",
        "\n",
        "\n",
        "1.   Certifique-se que o código seja em Python\n",
        "2.   Certifique-se que todas as livrarias do código mostrado no chatGPT estejam instalados\n",
        "3.   Se as livrarias mostradas no chatGPT já estão instaladas não precisa voltar a instalar.\n",
        "3. Certifique-se de que use um exemplo para usar a biblioteca sqlite3"
      ],
      "metadata": {
        "id": "WZParr5xlmdY"
      }
    },
    {
      "cell_type": "code",
      "source": [
        "#Copie aqui embaixo o código gerado pelo Chat GPT, ou alternativamente escreva a função. Depois clique em Run\n",
        "#Logo depois de executar verifique se há erros para corregir\n",
        "\n",
        "def mostrar_tabelas():\n",
        "    # Conectar ao banco de dados\n",
        "    conn = conectar_banco_dados(\"chinook.db\")\n",
        "    cursor = conn.cursor()\n",
        "\n",
        "    # Executar a consulta SQL\n",
        "    consulta = \"SELECT name FROM sqlite_master WHERE type='table'\"\n",
        "    cursor.execute(consulta)\n",
        "\n",
        "    # Obter os resultados da consulta\n",
        "    tabelas = cursor.fetchall()\n",
        "\n",
        "    # Exibir as tabelas\n",
        "    for tabela in tabelas:\n",
        "        print(tabela[0])\n",
        "\n",
        "    # Fechar a conexão com o banco de dados\n",
        "    conn.close()\n",
        "\n",
        "# Chamar a função para mostrar as tabelas\n",
        "mostrar_tabelas()"
      ],
      "metadata": {
        "colab": {
          "base_uri": "https://localhost:8080/"
        },
        "id": "FimuXp-BmlwY",
        "outputId": "e637b7ab-af78-4f58-8166-04a0b1040bf9"
      },
      "execution_count": null,
      "outputs": [
        {
          "output_type": "stream",
          "name": "stdout",
          "text": [
            "Conexão bem-sucedida ao banco de dados SQLite3!\n",
            "albums\n",
            "sqlite_sequence\n",
            "artists\n",
            "customers\n",
            "employees\n",
            "genres\n",
            "invoices\n",
            "invoice_items\n",
            "media_types\n",
            "playlists\n",
            "playlist_track\n",
            "tracks\n",
            "sqlite_stat1\n"
          ]
        }
      ]
    },
    {
      "cell_type": "markdown",
      "source": [
        "**Exercício 2.3:**\n",
        "Criar uma consulta SQL que mostre todos os empregados da área de TI retorne o total. Ao final, insira esse número debaixo do Exercício 2.2 no Moodle.\n",
        "\n",
        "*ROSA Revisar se possível criar um outro exercícios - insira no Moodle o nome mais comun para o sempregados da empresa - apenas como ideia para os próximos notebooks*\n",
        "\n",
        "**Prompt Chat GPT:**\n",
        "\n",
        "\n",
        "1.   Certifique-se que o código seja em Python\n",
        "2.   Certifique-se que todas as livrarias do código mostrado no chatGPT estejam instalados\n",
        "3.   Se as livrarias mostradas no chatGPT já estão instaladas não precisa voltar a instalar.\n",
        "3. Certifique-se de que use um exemplo para usar a biblioteca sqlite3"
      ],
      "metadata": {
        "id": "fRGSQ3D8nSdA"
      }
    },
    {
      "cell_type": "code",
      "source": [
        "#Copie aqui embaixo o código gerado pelo Chat GPT, ou alternativamente escreva a função. Depois clique em Run\n",
        "#Logo depois de executar verifique se há erros para corregir\n",
        "\n",
        "def tabelas_banco_clientes():\n",
        "    # Conectar ao banco de dados\n",
        "    conn = conectar_banco_dados(\"chinook.db\")\n",
        "    cursor = conn.cursor()\n",
        "\n",
        "    # Executar a consulta SQL\n",
        "    consulta = \"SELECT * FROM customers\"\n",
        "    cursor.execute(consulta)\n",
        "\n",
        "    # Obter os resultados da consulta\n",
        "    resultados = cursor.fetchall()\n",
        "\n",
        "    # Exibir os resultados\n",
        "    for cliente in resultados:\n",
        "        print(cliente)\n",
        "\n",
        "    # Fechar a conexão com o banco de dados\n",
        "    conn.close()\n",
        "\n",
        "# Chamar a função para selecionar os clientes com \"Ana\" no nome\n",
        "tabelas_banco_clientes()"
      ],
      "metadata": {
        "colab": {
          "base_uri": "https://localhost:8080/"
        },
        "id": "jA_mNQDgpP46",
        "outputId": "7f3c5e3d-c8f9-4e0f-84c6-830b3fba8ca7"
      },
      "execution_count": null,
      "outputs": [
        {
          "output_type": "stream",
          "name": "stdout",
          "text": [
            "Conexão bem-sucedida ao banco de dados SQLite3!\n",
            "(1, 'Luís', 'Gonçalves', 'Embraer - Empresa Brasileira de Aeronáutica S.A.', 'Av. Brigadeiro Faria Lima, 2170', 'São José dos Campos', 'SP', 'Brazil', '12227-000', '+55 (12) 3923-5555', '+55 (12) 3923-5566', 'luisg@embraer.com.br', 3)\n",
            "(2, 'Leonie', 'Köhler', None, 'Theodor-Heuss-Straße 34', 'Stuttgart', None, 'Germany', '70174', '+49 0711 2842222', None, 'leonekohler@surfeu.de', 5)\n",
            "(3, 'François', 'Tremblay', None, '1498 rue Bélanger', 'Montréal', 'QC', 'Canada', 'H2G 1A7', '+1 (514) 721-4711', None, 'ftremblay@gmail.com', 3)\n",
            "(4, 'Bjørn', 'Hansen', None, 'Ullevålsveien 14', 'Oslo', None, 'Norway', '0171', '+47 22 44 22 22', None, 'bjorn.hansen@yahoo.no', 4)\n",
            "(5, 'František', 'Wichterlová', 'JetBrains s.r.o.', 'Klanova 9/506', 'Prague', None, 'Czech Republic', '14700', '+420 2 4172 5555', '+420 2 4172 5555', 'frantisekw@jetbrains.com', 4)\n",
            "(6, 'Helena', 'Holý', None, 'Rilská 3174/6', 'Prague', None, 'Czech Republic', '14300', '+420 2 4177 0449', None, 'hholy@gmail.com', 5)\n",
            "(7, 'Astrid', 'Gruber', None, 'Rotenturmstraße 4, 1010 Innere Stadt', 'Vienne', None, 'Austria', '1010', '+43 01 5134505', None, 'astrid.gruber@apple.at', 5)\n",
            "(8, 'Daan', 'Peeters', None, 'Grétrystraat 63', 'Brussels', None, 'Belgium', '1000', '+32 02 219 03 03', None, 'daan_peeters@apple.be', 4)\n",
            "(9, 'Kara', 'Nielsen', None, 'Sønder Boulevard 51', 'Copenhagen', None, 'Denmark', '1720', '+453 3331 9991', None, 'kara.nielsen@jubii.dk', 4)\n",
            "(10, 'Eduardo', 'Martins', 'Woodstock Discos', 'Rua Dr. Falcão Filho, 155', 'São Paulo', 'SP', 'Brazil', '01007-010', '+55 (11) 3033-5446', '+55 (11) 3033-4564', 'eduardo@woodstock.com.br', 4)\n",
            "(11, 'Alexandre', 'Rocha', 'Banco do Brasil S.A.', 'Av. Paulista, 2022', 'São Paulo', 'SP', 'Brazil', '01310-200', '+55 (11) 3055-3278', '+55 (11) 3055-8131', 'alero@uol.com.br', 5)\n",
            "(12, 'Roberto', 'Almeida', 'Riotur', 'Praça Pio X, 119', 'Rio de Janeiro', 'RJ', 'Brazil', '20040-020', '+55 (21) 2271-7000', '+55 (21) 2271-7070', 'roberto.almeida@riotur.gov.br', 3)\n",
            "(13, 'Fernanda', 'Ramos', None, 'Qe 7 Bloco G', 'Brasília', 'DF', 'Brazil', '71020-677', '+55 (61) 3363-5547', '+55 (61) 3363-7855', 'fernadaramos4@uol.com.br', 4)\n",
            "(14, 'Mark', 'Philips', 'Telus', '8210 111 ST NW', 'Edmonton', 'AB', 'Canada', 'T6G 2C7', '+1 (780) 434-4554', '+1 (780) 434-5565', 'mphilips12@shaw.ca', 5)\n",
            "(15, 'Jennifer', 'Peterson', 'Rogers Canada', '700 W Pender Street', 'Vancouver', 'BC', 'Canada', 'V6C 1G8', '+1 (604) 688-2255', '+1 (604) 688-8756', 'jenniferp@rogers.ca', 3)\n",
            "(16, 'Frank', 'Harris', 'Google Inc.', '1600 Amphitheatre Parkway', 'Mountain View', 'CA', 'USA', '94043-1351', '+1 (650) 253-0000', '+1 (650) 253-0000', 'fharris@google.com', 4)\n",
            "(17, 'Jack', 'Smith', 'Microsoft Corporation', '1 Microsoft Way', 'Redmond', 'WA', 'USA', '98052-8300', '+1 (425) 882-8080', '+1 (425) 882-8081', 'jacksmith@microsoft.com', 5)\n",
            "(18, 'Michelle', 'Brooks', None, '627 Broadway', 'New York', 'NY', 'USA', '10012-2612', '+1 (212) 221-3546', '+1 (212) 221-4679', 'michelleb@aol.com', 3)\n",
            "(19, 'Tim', 'Goyer', 'Apple Inc.', '1 Infinite Loop', 'Cupertino', 'CA', 'USA', '95014', '+1 (408) 996-1010', '+1 (408) 996-1011', 'tgoyer@apple.com', 3)\n",
            "(20, 'Dan', 'Miller', None, '541 Del Medio Avenue', 'Mountain View', 'CA', 'USA', '94040-111', '+1 (650) 644-3358', None, 'dmiller@comcast.com', 4)\n",
            "(21, 'Kathy', 'Chase', None, '801 W 4th Street', 'Reno', 'NV', 'USA', '89503', '+1 (775) 223-7665', None, 'kachase@hotmail.com', 5)\n",
            "(22, 'Heather', 'Leacock', None, '120 S Orange Ave', 'Orlando', 'FL', 'USA', '32801', '+1 (407) 999-7788', None, 'hleacock@gmail.com', 4)\n",
            "(23, 'John', 'Gordon', None, '69 Salem Street', 'Boston', 'MA', 'USA', '2113', '+1 (617) 522-1333', None, 'johngordon22@yahoo.com', 4)\n",
            "(24, 'Frank', 'Ralston', None, '162 E Superior Street', 'Chicago', 'IL', 'USA', '60611', '+1 (312) 332-3232', None, 'fralston@gmail.com', 3)\n",
            "(25, 'Victor', 'Stevens', None, '319 N. Frances Street', 'Madison', 'WI', 'USA', '53703', '+1 (608) 257-0597', None, 'vstevens@yahoo.com', 5)\n",
            "(26, 'Richard', 'Cunningham', None, '2211 W Berry Street', 'Fort Worth', 'TX', 'USA', '76110', '+1 (817) 924-7272', None, 'ricunningham@hotmail.com', 4)\n",
            "(27, 'Patrick', 'Gray', None, '1033 N Park Ave', 'Tucson', 'AZ', 'USA', '85719', '+1 (520) 622-4200', None, 'patrick.gray@aol.com', 4)\n",
            "(28, 'Julia', 'Barnett', None, '302 S 700 E', 'Salt Lake City', 'UT', 'USA', '84102', '+1 (801) 531-7272', None, 'jubarnett@gmail.com', 5)\n",
            "(29, 'Robert', 'Brown', None, '796 Dundas Street West', 'Toronto', 'ON', 'Canada', 'M6J 1V1', '+1 (416) 363-8888', None, 'robbrown@shaw.ca', 3)\n",
            "(30, 'Edward', 'Francis', None, '230 Elgin Street', 'Ottawa', 'ON', 'Canada', 'K2P 1L7', '+1 (613) 234-3322', None, 'edfrancis@yachoo.ca', 3)\n",
            "(31, 'Martha', 'Silk', None, '194A Chain Lake Drive', 'Halifax', 'NS', 'Canada', 'B3S 1C5', '+1 (902) 450-0450', None, 'marthasilk@gmail.com', 5)\n",
            "(32, 'Aaron', 'Mitchell', None, '696 Osborne Street', 'Winnipeg', 'MB', 'Canada', 'R3L 2B9', '+1 (204) 452-6452', None, 'aaronmitchell@yahoo.ca', 4)\n",
            "(33, 'Ellie', 'Sullivan', None, '5112 48 Street', 'Yellowknife', 'NT', 'Canada', 'X1A 1N6', '+1 (867) 920-2233', None, 'ellie.sullivan@shaw.ca', 3)\n",
            "(34, 'João', 'Fernandes', None, 'Rua da Assunção 53', 'Lisbon', None, 'Portugal', None, '+351 (213) 466-111', None, 'jfernandes@yahoo.pt', 4)\n",
            "(35, 'Madalena', 'Sampaio', None, 'Rua dos Campeões Europeus de Viena, 4350', 'Porto', None, 'Portugal', None, '+351 (225) 022-448', None, 'masampaio@sapo.pt', 4)\n",
            "(36, 'Hannah', 'Schneider', None, 'Tauentzienstraße 8', 'Berlin', None, 'Germany', '10789', '+49 030 26550280', None, 'hannah.schneider@yahoo.de', 5)\n",
            "(37, 'Fynn', 'Zimmermann', None, 'Berger Straße 10', 'Frankfurt', None, 'Germany', '60316', '+49 069 40598889', None, 'fzimmermann@yahoo.de', 3)\n",
            "(38, 'Niklas', 'Schröder', None, 'Barbarossastraße 19', 'Berlin', None, 'Germany', '10779', '+49 030 2141444', None, 'nschroder@surfeu.de', 3)\n",
            "(39, 'Camille', 'Bernard', None, '4, Rue Milton', 'Paris', None, 'France', '75009', '+33 01 49 70 65 65', None, 'camille.bernard@yahoo.fr', 4)\n",
            "(40, 'Dominique', 'Lefebvre', None, '8, Rue Hanovre', 'Paris', None, 'France', '75002', '+33 01 47 42 71 71', None, 'dominiquelefebvre@gmail.com', 4)\n",
            "(41, 'Marc', 'Dubois', None, '11, Place Bellecour', 'Lyon', None, 'France', '69002', '+33 04 78 30 30 30', None, 'marc.dubois@hotmail.com', 5)\n",
            "(42, 'Wyatt', 'Girard', None, '9, Place Louis Barthou', 'Bordeaux', None, 'France', '33000', '+33 05 56 96 96 96', None, 'wyatt.girard@yahoo.fr', 3)\n",
            "(43, 'Isabelle', 'Mercier', None, '68, Rue Jouvence', 'Dijon', None, 'France', '21000', '+33 03 80 73 66 99', None, 'isabelle_mercier@apple.fr', 3)\n",
            "(44, 'Terhi', 'Hämäläinen', None, 'Porthaninkatu 9', 'Helsinki', None, 'Finland', '00530', '+358 09 870 2000', None, 'terhi.hamalainen@apple.fi', 3)\n",
            "(45, 'Ladislav', 'Kovács', None, 'Erzsébet krt. 58.', 'Budapest', None, 'Hungary', 'H-1073', None, None, 'ladislav_kovacs@apple.hu', 3)\n",
            "(46, 'Hugh', \"O'Reilly\", None, '3 Chatham Street', 'Dublin', 'Dublin', 'Ireland', None, '+353 01 6792424', None, 'hughoreilly@apple.ie', 3)\n",
            "(47, 'Lucas', 'Mancini', None, 'Via Degli Scipioni, 43', 'Rome', 'RM', 'Italy', '00192', '+39 06 39733434', None, 'lucas.mancini@yahoo.it', 5)\n",
            "(48, 'Johannes', 'Van der Berg', None, 'Lijnbaansgracht 120bg', 'Amsterdam', 'VV', 'Netherlands', '1016', '+31 020 6223130', None, 'johavanderberg@yahoo.nl', 5)\n",
            "(49, 'Stanisław', 'Wójcik', None, 'Ordynacka 10', 'Warsaw', None, 'Poland', '00-358', '+48 22 828 37 39', None, 'stanisław.wójcik@wp.pl', 4)\n",
            "(50, 'Enrique', 'Muñoz', None, 'C/ San Bernardo 85', 'Madrid', None, 'Spain', '28015', '+34 914 454 454', None, 'enrique_munoz@yahoo.es', 5)\n",
            "(51, 'Joakim', 'Johansson', None, 'Celsiusg. 9', 'Stockholm', None, 'Sweden', '11230', '+46 08-651 52 52', None, 'joakim.johansson@yahoo.se', 5)\n",
            "(52, 'Emma', 'Jones', None, '202 Hoxton Street', 'London', None, 'United Kingdom', 'N1 5LH', '+44 020 7707 0707', None, 'emma_jones@hotmail.com', 3)\n",
            "(53, 'Phil', 'Hughes', None, '113 Lupus St', 'London', None, 'United Kingdom', 'SW1V 3EN', '+44 020 7976 5722', None, 'phil.hughes@gmail.com', 3)\n",
            "(54, 'Steve', 'Murray', None, '110 Raeburn Pl', 'Edinburgh ', None, 'United Kingdom', 'EH4 1HH', '+44 0131 315 3300', None, 'steve.murray@yahoo.uk', 5)\n",
            "(55, 'Mark', 'Taylor', None, '421 Bourke Street', 'Sidney', 'NSW', 'Australia', '2010', '+61 (02) 9332 3633', None, 'mark.taylor@yahoo.au', 4)\n",
            "(56, 'Diego', 'Gutiérrez', None, '307 Macacha Güemes', 'Buenos Aires', None, 'Argentina', '1106', '+54 (0)11 4311 4333', None, 'diego.gutierrez@yahoo.ar', 4)\n",
            "(57, 'Luis', 'Rojas', None, 'Calle Lira, 198', 'Santiago', None, 'Chile', None, '+56 (0)2 635 4444', None, 'luisrojas@yahoo.cl', 5)\n",
            "(58, 'Manoj', 'Pareek', None, '12,Community Centre', 'Delhi', None, 'India', '110017', '+91 0124 39883988', None, 'manoj.pareek@rediff.com', 3)\n",
            "(59, 'Puja', 'Srivastava', None, '3,Raj Bhavan Road', 'Bangalore', None, 'India', '560001', '+91 080 22289999', None, 'puja_srivastava@yahoo.in', 3)\n"
          ]
        }
      ]
    },
    {
      "cell_type": "markdown",
      "source": [
        "**Exercício 2.4:**\n",
        "Em uma tabela com dados dos clientes. Criar uma consulta em SQL selecionando todos os clientes que tenham no seu nome como Eduardo.\n",
        "\n",
        "**Prompt Chat GPT:** ChatGPT, qual o código em python para criar uma consulta em SQL selecionando todos os clientes que tenham no seu nome como Eduardo.\n",
        "\n",
        "\n",
        "1.   Certifique-se que o código seja em Python\n",
        "2.   Certifique-se que todas as livrarias do código mostrado no chatGPT estejam instalados\n",
        "3. Certifique-se de que use um exemplo para usar a biblioteca sqlite3"
      ],
      "metadata": {
        "id": "_jcglD1PgLfZ"
      }
    },
    {
      "cell_type": "code",
      "source": [
        "def selecionar_clientes_com_Eduardo():\n",
        "    # Conectar ao banco de dados\n",
        "    conn = conectar_banco_dados(\"chinook.db\")\n",
        "    cursor = conn.cursor()\n",
        "\n",
        "    # Executar a consulta SQL\n",
        "    consulta = \"SELECT * FROM customers WHERE FirstName LIKE '%Eduardo%'\"\n",
        "    cursor.execute(consulta)\n",
        "\n",
        "    # Obter os resultados da consulta\n",
        "    resultados = cursor.fetchall()\n",
        "\n",
        "    # Exibir os resultados\n",
        "    for cliente in resultados:\n",
        "        print(cliente)\n",
        "\n",
        "    # Fechar a conexão com o banco de dados\n",
        "    conn.close()\n",
        "\n",
        "# Chamar a função para selecionar os clientes com \"Ana\" no nome\n",
        "selecionar_clientes_com_Eduardo()\n"
      ],
      "metadata": {
        "colab": {
          "base_uri": "https://localhost:8080/"
        },
        "id": "ftRP85VagAQS",
        "outputId": "f58ba030-6120-4c47-980b-f63571acd120"
      },
      "execution_count": null,
      "outputs": [
        {
          "output_type": "stream",
          "name": "stdout",
          "text": [
            "Conexão bem-sucedida ao banco de dados SQLite3!\n",
            "(10, 'Eduardo', 'Martins', 'Woodstock Discos', 'Rua Dr. Falcão Filho, 155', 'São Paulo', 'SP', 'Brazil', '01007-010', '+55 (11) 3033-5446', '+55 (11) 3033-4564', 'eduardo@woodstock.com.br', 4)\n"
          ]
        }
      ]
    },
    {
      "cell_type": "markdown",
      "source": [
        "# Desafios"
      ],
      "metadata": {
        "id": "rqLkAfI6tGAT"
      }
    },
    {
      "cell_type": "markdown",
      "source": [
        "**Desafío 1:**\n",
        "Crie uma consulta SQL que mostre quantos clientes são do Brasil.\n",
        "\n",
        "**Prompt Chat GPT:** ChatGPT, qual o código em python para criar uma consulta em SQL que mostre quantos clientes são do brasil? a tabela chama-se de customer\n",
        "\n",
        "\n",
        "1.   Certifique-se que o código seja em Python\n",
        "2.   Certifique-se que todas as livrarias do código mostrado no chatGPT estejam instalados\n",
        "3.   Se as livrarias mostradas no chatGPT já estão instaladas não precisa voltar a instalar.\n",
        "3. Certifique-se de que use um exemplo para usar a biblioteca sqlite3"
      ],
      "metadata": {
        "id": "hQCzZXrLntx5"
      }
    },
    {
      "cell_type": "code",
      "source": [
        "#Inserir aqui o código\n"
      ],
      "metadata": {
        "id": "uf7O6zf3n__B"
      },
      "execution_count": null,
      "outputs": []
    },
    {
      "cell_type": "markdown",
      "source": [
        "**Desafío 2:**\n",
        "Crie uma consulta SQL que mostre quais são os clientes do Brasil. No questionário marcar como se chaman os que são da cidade de São Paulo?\n",
        "\n",
        "**Prompt Chat GPT:**\n",
        "\n",
        "\n",
        "1.   Certifique-se que o código seja em Python\n",
        "2.   Certifique-se que todas as livrarias do código mostrado no chatGPT estejam instalados\n",
        "3.   Se as livrarias mostradas no chatGPT já estão instaladas não precisa voltar a instalar.\n",
        "3. Certifique-se de que use um exemplo para usar a biblioteca sqlite3"
      ],
      "metadata": {
        "id": "ogofhNDdoDHh"
      }
    },
    {
      "cell_type": "code",
      "source": [
        "#Inserir aqui o código\n"
      ],
      "metadata": {
        "id": "ulVqurhnoQix"
      },
      "execution_count": null,
      "outputs": []
    },
    {
      "cell_type": "markdown",
      "source": [
        "**Desafío 3:**\n",
        "Criar uma consulta SQL que mostre a quantidade de clientes que há em cada estado do Brazil.\n",
        "\n",
        "**Prompt Chat GPT:**\n",
        "\n",
        "\n",
        "1.   Certifique-se que o código seja em Python\n",
        "2.   Certifique-se que todas as livrarias do código mostrado no chatGPT estejam instalados\n",
        "3.   Se as livrarias mostradas no chatGPT já estão instaladas não precisa voltar a instalar.\n",
        "3. Certifique-se de que use um exemplo para usar a biblioteca sqlite3"
      ],
      "metadata": {
        "id": "M032scqLqvIh"
      }
    },
    {
      "cell_type": "code",
      "source": [
        "#Inserir aqui o código"
      ],
      "metadata": {
        "id": "tm95Ll5K4HZv"
      },
      "execution_count": null,
      "outputs": []
    },
    {
      "cell_type": "markdown",
      "source": [
        "**Desafío 4:**\n",
        "Criar uma consulta SQL que mostra em qual país de houve mais fatura.\n",
        "\n",
        "**Prompt Chat GPT:**\n",
        "\n",
        "\n",
        "1.   Certifique-se que o código seja em Python\n",
        "2.   Certifique-se que todas as livrarias do código mostrado no chatGPT estejam instalados\n",
        "3.   Se as livrarias mostradas no chatGPT já estão instaladas não precisa voltar a instalar.\n",
        "3. Certifique-se de que use um exemplo para usar a biblioteca sqlite3"
      ],
      "metadata": {
        "id": "z6NuKlKAq0yI"
      }
    },
    {
      "cell_type": "code",
      "source": [
        "#Inserir aqui o código"
      ],
      "metadata": {
        "id": "TBIGIIA84InG"
      },
      "execution_count": null,
      "outputs": []
    },
    {
      "cell_type": "markdown",
      "source": [
        "**Desafío 5:** Criar uma consulta que reporte quantos albums tem cada artista. Utilize o mesmo banco de dados e sqlite3 como nas práticas anteriores.\n",
        "\n",
        "**Prompt Chat GPT:**\n",
        "\n",
        "\n",
        "1.   Certifique-se que o código seja em Python\n",
        "2.   Certifique-se que todas as livrarias do código mostrado no chatGPT estejam instalados\n",
        "3.   Se as livrarias mostradas no chatGPT já estão instaladas não precisa voltar a instalar.\n",
        "3. Certifique-se de que use um exemplo para usar a biblioteca sqlite3"
      ],
      "metadata": {
        "id": "Ndb1xINYtsrW"
      }
    },
    {
      "cell_type": "code",
      "source": [
        "#Inserir aqui o código"
      ],
      "metadata": {
        "id": "Q84QMkp74JTO"
      },
      "execution_count": null,
      "outputs": []
    },
    {
      "cell_type": "markdown",
      "source": [
        "**Desafío 6:** Criar uma consulta QSL para saber os 10 artistas que mais álbums tem. Utilize o mesmo banco de dados e sqlite3 como nas práticas anteriores.\n",
        "\n",
        "**Prompt Chat GPT:**\n",
        "\n",
        "\n",
        "1.   Certifique-se que o código seja em Python\n",
        "2.   Certifique-se que todas as livrarias do código mostrado no chatGPT estejam instalados\n",
        "3.   Se as livrarias mostradas no chatGPT já estão instaladas não precisa voltar a instalar.\n",
        "3. Certifique-se de que use um exemplo para usar a biblioteca sqlite3"
      ],
      "metadata": {
        "id": "yJXVliz6sgCv"
      }
    },
    {
      "cell_type": "code",
      "source": [
        "#Inserir aqui o código"
      ],
      "metadata": {
        "id": "uLHLv0cb4Km9"
      },
      "execution_count": null,
      "outputs": []
    },
    {
      "cell_type": "markdown",
      "source": [
        "**Desafío 7:** Criar uma consulta SQL que mostre Nome do artista e título do ambum realizado por eles. Utilize o mesmo banco de dados e sqlite3 como nas práticas anteriores.\n",
        "\n",
        "**Prompt Chat GPT:**\n",
        "\n",
        "\n",
        "1.   Certifique-se que o código seja em Python\n",
        "2.   Certifique-se que todas as livrarias do código mostrado no chatGPT estejam instalados\n",
        "3.   Se as livrarias mostradas no chatGPT já estão instaladas não precisa voltar a instalar.\n",
        "3. Certifique-se de que use um exemplo para usar a biblioteca sqlite3"
      ],
      "metadata": {
        "id": "APvj0fXutbk3"
      }
    },
    {
      "cell_type": "code",
      "source": [
        "#Inserir aqui o código"
      ],
      "metadata": {
        "id": "gbbdQ4Eu4LTe"
      },
      "execution_count": null,
      "outputs": []
    }
  ]
}
